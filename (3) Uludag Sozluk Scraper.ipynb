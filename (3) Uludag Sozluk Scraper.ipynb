{
 "cells": [
  {
   "cell_type": "markdown",
   "metadata": {},
   "source": [
    "## Uludag Sozluk Web Scraping"
   ]
  },
  {
   "cell_type": "code",
   "execution_count": 1,
   "metadata": {},
   "outputs": [],
   "source": [
    "import requests\n",
    "from bs4 import BeautifulSoup\n",
    "from tqdm import tqdm\n",
    "import json\n",
    "import string\n",
    "import time,os\n",
    "import numpy as np\n",
    "import pandas as pd\n",
    "import re\n",
    "\n",
    "import requests\n",
    "import time, os\n",
    "\n",
    "from selenium import webdriver\n",
    "from selenium.webdriver import Chrome\n",
    "from selenium.webdriver.common.keys import Keys"
   ]
  },
  {
   "cell_type": "code",
   "execution_count": 2,
   "metadata": {},
   "outputs": [],
   "source": [
    "url=\"https://www.uludagsozluk.com/kategori/teknoloji/\"\n",
    "r=requests.get(url)"
   ]
  },
  {
   "cell_type": "code",
   "execution_count": 3,
   "metadata": {},
   "outputs": [
    {
     "data": {
      "text/plain": [
       "200"
      ]
     },
     "execution_count": 3,
     "metadata": {},
     "output_type": "execute_result"
    }
   ],
   "source": [
    "r.status_code"
   ]
  },
  {
   "cell_type": "code",
   "execution_count": 4,
   "metadata": {},
   "outputs": [],
   "source": [
    "soup=BeautifulSoup(r.content,\"lxml\")"
   ]
  },
  {
   "cell_type": "code",
   "execution_count": 5,
   "metadata": {},
   "outputs": [],
   "source": [
    "page_count=len(soup.find_all(\"div\",{\"class\":\"paginationp\"})[0].find_all(\"a\"))"
   ]
  },
  {
   "cell_type": "code",
   "execution_count": 6,
   "metadata": {},
   "outputs": [
    {
     "data": {
      "text/plain": [
       "10"
      ]
     },
     "execution_count": 6,
     "metadata": {},
     "output_type": "execute_result"
    }
   ],
   "source": [
    "page_count"
   ]
  },
  {
   "cell_type": "code",
   "execution_count": 7,
   "metadata": {},
   "outputs": [],
   "source": [
    "comments_list=[]\n",
    "likes_list=[]\n",
    "dislike_list=[]\n",
    "date_list=[]\n",
    "\n",
    "for page in range(1,page_count+1):\n",
    "    pageRequest=requests.get(str(url)+\"{}/\".format(page))\n",
    "    #print(pageRequest.url)\n",
    "    pageSoup=BeautifulSoup(pageRequest.content,\"lxml\")\n",
    "    entrys=pageSoup.find_all(\"li\",{\"class\":\"rowli\"})\n",
    "    for entry in entrys:\n",
    "        entryLink=\"https://www.uludagsozluk.com\"+entry.a.get(\"href\")\n",
    "        entryName=entry.a.get(\"title\")\n",
    "        entryR=requests.get(entryLink)\n",
    "        entry_soup=BeautifulSoup(entryR.content,\"lxml\")\n",
    "        comment_page_count=len(entry_soup.find(\"select\").find_all(\"option\"))+1\n",
    "        \n",
    "        for comment_page in range(1,comment_page_count+1):\n",
    "            entryR2=requests.get(entryLink+\"{}/\".format(comment_page))\n",
    "            entry_soup2=BeautifulSoup(entryR2.content,\"lxml\")\n",
    "            comments=entry_soup2.find_all(\"li\",{\"class\":\"li_capsul_entry\"})\n",
    "            \n",
    "            for comment in comments:\n",
    "                comments_list.append(comment.find(\"div\",{\"class\":\"entry\"}).find(\"div\",{\"class\":\"entry-p\"}).text.strip())\n",
    "                likes_list.append(comment.find_all(\"a\",{\"class\":\"butoy\"})[0].text.strip())\n",
    "                dislike_list.append(comment.find_all(\"a\",{\"class\":\"butoy\"})[1].text.strip())\n",
    "                date_list.append(comment.find(\"a\",{\"class\":\"entry-date\"}).text.strip())\n",
    "\n"
   ]
  },
  {
   "cell_type": "code",
   "execution_count": 8,
   "metadata": {},
   "outputs": [
    {
     "data": {
      "text/plain": [
       "(5899, 5899, 5899, 5899)"
      ]
     },
     "execution_count": 8,
     "metadata": {},
     "output_type": "execute_result"
    }
   ],
   "source": [
    "len(comments_list),len(likes_list),len(dislike_list),len(date_list)"
   ]
  },
  {
   "cell_type": "code",
   "execution_count": 9,
   "metadata": {},
   "outputs": [],
   "source": [
    "df=pd.DataFrame()\n",
    "df[\"Comment\"]=comments_list\n",
    "df[\"Like\"]=likes_list\n",
    "df[\"Dislike\"]=dislike_list\n",
    "df[\"Date\"]=date_list"
   ]
  },
  {
   "cell_type": "code",
   "execution_count": 11,
   "metadata": {},
   "outputs": [],
   "source": [
    "df.to_csv(\"Uludag_Teknoloji.csv\")"
   ]
  }
 ],
 "metadata": {
  "kernelspec": {
   "display_name": "Python 3",
   "language": "python",
   "name": "python3"
  },
  "language_info": {
   "codemirror_mode": {
    "name": "ipython",
    "version": 3
   },
   "file_extension": ".py",
   "mimetype": "text/x-python",
   "name": "python",
   "nbconvert_exporter": "python",
   "pygments_lexer": "ipython3",
   "version": "3.8.8"
  }
 },
 "nbformat": 4,
 "nbformat_minor": 4
}
